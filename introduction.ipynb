{
  "nbformat": 4,
  "nbformat_minor": 0,
  "metadata": {
    "colab": {
      "provenance": [],
      "authorship_tag": "ABX9TyMMsCHebAs3cglr/NHOmRkI",
      "include_colab_link": true
    },
    "kernelspec": {
      "name": "python3",
      "display_name": "Python 3"
    },
    "language_info": {
      "name": "python"
    }
  },
  "cells": [
    {
      "cell_type": "markdown",
      "metadata": {
        "id": "view-in-github",
        "colab_type": "text"
      },
      "source": [
        "<a href=\"https://colab.research.google.com/github/camilos125/intro_pyhton_202320/blob/main/introduction.ipynb\" target=\"_parent\"><img src=\"https://colab.research.google.com/assets/colab-badge.svg\" alt=\"Open In Colab\"/></a>"
      ]
    },
    {
      "cell_type": "markdown",
      "source": [
        "# Introduccion a python\n",
        "## Curso de programacion y algoritmia UPB 202320\n",
        "- Nombre: Camilo Salgado\n",
        "- ID: 500101\n",
        "- Email: camilo.salgado@upb.edu.co\n",
        "\n",
        "Esta es la expresion de la linea recta:\n",
        "$$y = mx + b$$\n",
        "donde $x$ es la posicion.\n"
      ],
      "metadata": {
        "id": "kvmSzDMjFKH4"
      }
    },
    {
      "cell_type": "code",
      "execution_count": 11,
      "metadata": {
        "id": "jac3rCALEgKV",
        "outputId": "4d16eda7-2696-4f82-c295-1239c198870c",
        "colab": {
          "base_uri": "https://localhost:8080/"
        }
      },
      "outputs": [
        {
          "output_type": "stream",
          "name": "stdout",
          "text": [
            "<class 'int'>\n",
            "<class 'float'>\n",
            "7.5\n",
            "22.5\n",
            "5\n",
            "16.666666666666668\n"
          ]
        }
      ],
      "source": [
        "a = 3\n",
        "b = 4.5\n",
        "c = a + b\n",
        "print (type(a))\n",
        "print (type(b))\n",
        "print (c)\n",
        "c = c * a\n",
        "print (c)\n",
        "c = int (c / b)\n",
        "print (c)\n",
        "d = 0.3\n",
        "c /\n",
        "= 0.3\n",
        "print (c)\n",
        "\n"
      ]
    },
    {
      "cell_type": "code",
      "source": [
        "m = 5\n",
        "b = 2\n",
        "x = -3\n",
        "y = m * x + b\n",
        "print (y)\n",
        "x = -2\n",
        "y = m * x + b\n",
        "print (y)\n",
        "x = -1\n",
        "y = m * x + b\n",
        "print (y)\n",
        "x = 0\n",
        "y = m * x + b\n",
        "print (y)\n",
        "x = 1\n",
        "y = m * x + b\n",
        "print (y)\n",
        "x = 2\n",
        "y = m * x + b\n",
        "print (y)\n",
        "x = 3\n",
        "y = m * x + b\n",
        "print (y)"
      ],
      "metadata": {
        "id": "HCp3VWBbeH2d",
        "outputId": "2a568865-bf05-464a-c7c8-92a7b33bda0a",
        "colab": {
          "base_uri": "https://localhost:8080/"
        }
      },
      "execution_count": 17,
      "outputs": [
        {
          "output_type": "stream",
          "name": "stdout",
          "text": [
            "-13\n",
            "-8\n",
            "-3\n",
            "2\n",
            "7\n",
            "12\n",
            "17\n"
          ]
        }
      ]
    },
    {
      "cell_type": "code",
      "source": [
        "a = 1\n",
        "b = 2\n",
        "c = -8\n",
        "\n",
        "disc = (b ** 2 - 4 * a * c) ** (1 / 2)\n",
        "x_p = (-b + disc) / (2 * a)\n",
        "x_n = (-b - disc) / (2 * a)\n",
        "print ('x_p:' , x_p)\n",
        "print ('x_n:' , x_n)\n",
        "\n",
        "\n",
        "a = -3\n",
        "b = 1\n",
        "c = 10\n",
        "disc = (b ** 2 - 4 * a * c) ** (1 / 2)\n",
        "x_p = (-b + disc) / (2 * a)\n",
        "x_n = (-b - disc) / (2 * a)\n",
        "print ('x_p:' , x_p)\n",
        "print ('x_n:' , x_n)\n",
        "\n",
        "a = 0.1\n",
        "b = -2\n",
        "c = 0.5\n",
        "disc = (b ** 2 - 4 * a * c) ** (1 / 2)\n",
        "x_p = (-b + disc) / (2 * a)\n",
        "x_n = (-b - disc) / (2 * a)\n",
        "print ('x_p:' , x_p)\n",
        "print ('x_n:' , x_n)"
      ],
      "metadata": {
        "id": "IvJVF1DdfXtY",
        "outputId": "35b7ccf3-66b3-46f2-a7ae-f0b8d983b3a8",
        "colab": {
          "base_uri": "https://localhost:8080/"
        }
      },
      "execution_count": 22,
      "outputs": [
        {
          "output_type": "stream",
          "name": "stdout",
          "text": [
            "x_p: 2.0\n",
            "x_n: -4.0\n",
            "x_p: -1.6666666666666667\n",
            "x_n: 2.0\n",
            "x_p: 19.74679434480896\n",
            "x_n: 0.25320565519103666\n"
          ]
        }
      ]
    },
    {
      "cell_type": "code",
      "source": [
        "firstname = 'Camilo'\n",
        "lastname = 'Salgado'\n",
        "fullname = firstname + ' ' + lastname\n",
        "print (fullname)"
      ],
      "metadata": {
        "id": "oXZmuTeBj-Wq",
        "outputId": "bfbd9491-989a-42e6-fbe0-1b0b7e3ed15a",
        "colab": {
          "base_uri": "https://localhost:8080/"
        }
      },
      "execution_count": 24,
      "outputs": [
        {
          "output_type": "stream",
          "name": "stdout",
          "text": [
            "Camilo Salgado\n"
          ]
        }
      ]
    },
    {
      "cell_type": "code",
      "source": [
        "song = \"\"\"un elefante se balanceaba\n",
        "sobre la tela de una araña\n",
        "como veia que resistia\n",
        "se fue a buscar otra... no se"
      ],
      "metadata": {
        "id": "Er3jU287krWI"
      },
      "execution_count": null,
      "outputs": []
    },
    {
      "cell_type": "code",
      "source": [
        "a = 3\n",
        "b = 5\n",
        "print (a == b)\n",
        "print (a != b)\n",
        "print (a > b)\n",
        "print ()"
      ],
      "metadata": {
        "id": "yQAjwTRUmLnP"
      },
      "execution_count": null,
      "outputs": []
    },
    {
      "cell_type": "code",
      "source": [],
      "metadata": {
        "id": "xcoEyKlFixBs"
      },
      "execution_count": null,
      "outputs": []
    }
  ]
}