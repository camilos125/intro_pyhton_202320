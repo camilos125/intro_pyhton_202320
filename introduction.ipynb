{
  "nbformat": 4,
  "nbformat_minor": 0,
  "metadata": {
    "colab": {
      "provenance": [],
      "authorship_tag": "ABX9TyMvIyvLL7mRC1wP6b0zzevZ",
      "include_colab_link": true
    },
    "kernelspec": {
      "name": "python3",
      "display_name": "Python 3"
    },
    "language_info": {
      "name": "python"
    }
  },
  "cells": [
    {
      "cell_type": "markdown",
      "metadata": {
        "id": "view-in-github",
        "colab_type": "text"
      },
      "source": [
        "<a href=\"https://colab.research.google.com/github/camilos125/intro_pyhton_202320/blob/main/introduction.ipynb\" target=\"_parent\"><img src=\"https://colab.research.google.com/assets/colab-badge.svg\" alt=\"Open In Colab\"/></a>"
      ]
    },
    {
      "cell_type": "markdown",
      "source": [
        "# Introduccion a python\n",
        "## Curso de programacion y algoritmia UPB 202320\n",
        "- Nombre: Camilo Salgado\n",
        "- ID: 500101\n",
        "- Email: camilo.salgado@upb.edu.co\n",
        "\n",
        "Esta es la expresion de la linea recta:\n",
        "$$y = mx + b$$\n",
        "donde $x$ es la posicion.\n"
      ],
      "metadata": {
        "id": "kvmSzDMjFKH4"
      }
    },
    {
      "cell_type": "code",
      "execution_count": null,
      "metadata": {
        "id": "jac3rCALEgKV"
      },
      "outputs": [],
      "source": []
    }
  ]
}