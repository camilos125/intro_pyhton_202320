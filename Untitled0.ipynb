{
  "nbformat": 4,
  "nbformat_minor": 0,
  "metadata": {
    "colab": {
      "provenance": [],
      "authorship_tag": "ABX9TyPgZUI6t6ljM94GCn6siRI6",
      "include_colab_link": true
    },
    "kernelspec": {
      "name": "python3",
      "display_name": "Python 3"
    },
    "language_info": {
      "name": "python"
    }
  },
  "cells": [
    {
      "cell_type": "markdown",
      "metadata": {
        "id": "view-in-github",
        "colab_type": "text"
      },
      "source": [
        "<a href=\"https://colab.research.google.com/github/camilos125/intro_pyhton_202320/blob/main/Untitled0.ipynb\" target=\"_parent\"><img src=\"https://colab.research.google.com/assets/colab-badge.svg\" alt=\"Open In Colab\"/></a>"
      ]
    },
    {
      "cell_type": "code",
      "execution_count": 3,
      "metadata": {
        "colab": {
          "base_uri": "https://localhost:8080/"
        },
        "id": "mNi9BiTKPrkU",
        "outputId": "7143656f-8040-4404-bb96-f68c803374cf"
      },
      "outputs": [
        {
          "output_type": "stream",
          "name": "stdout",
          "text": [
            "Hello, Camilo Andres\n",
            "Hello. my name is Camilo Salgado y tengo 17 años, vivo en monteria y me gusta el panzerotti\n"
          ]
        }
      ],
      "source": [
        "# Mis primeras lineas de codigo en Python\n",
        "\n",
        "name = 'Camilo Andres'\n",
        "print(\"Hello,\", name)\n",
        "\n",
        "firstname= 'Camilo'\n",
        "lastname= 'Salgado'\n",
        "age= '17'\n",
        "city= 'monteria'\n",
        "food= 'panzerotti'\n",
        "\n",
        "print(\"Hello. my name is\", firstname, lastname, \"y tengo\", age, \"años, vivo en\", city, \"y me gusta el\", food )"
      ]
    }
  ]
}